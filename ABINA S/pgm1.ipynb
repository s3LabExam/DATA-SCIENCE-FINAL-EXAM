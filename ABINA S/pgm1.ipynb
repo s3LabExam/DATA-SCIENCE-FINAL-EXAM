{
  "nbformat": 4,
  "nbformat_minor": 0,
  "metadata": {
    "colab": {
      "provenance": []
    },
    "kernelspec": {
      "name": "python3",
      "display_name": "Python 3"
    },
    "language_info": {
      "name": "python"
    }
  },
  "cells": [
    {
      "cell_type": "code",
      "execution_count": 46,
      "metadata": {
        "id": "SV0oUT455r01"
      },
      "outputs": [],
      "source": [
        "import numpy as np"
      ]
    },
    {
      "cell_type": "code",
      "source": [
        "#DOT PRODUCT OF TWO MATRICES\n",
        "\n",
        "X = [[12,7,3],\n",
        "    [4 ,5,6],\n",
        "    [7 ,8,9]]\n",
        "\n",
        "Y = [[5,8,1],\n",
        "    [6,7,3],\n",
        "    [4,5,9]]\n",
        "\n",
        "result = [[0,0,0],\n",
        "          [0,0,0],\n",
        "          [0,0,0]]\n",
        "\n",
        "for i in range(len(X)):\n",
        "   for j in range(len(X[0])):\n",
        "       result[i][j] = X[i][j] * Y[i][j]\n",
        "\n",
        "for r in result:\n",
        "   print(r)"
      ],
      "metadata": {
        "colab": {
          "base_uri": "https://localhost:8080/"
        },
        "id": "LcfvgiA06gdm",
        "outputId": "f9ceaf71-00c8-49d5-f583-ab255da12468"
      },
      "execution_count": 48,
      "outputs": [
        {
          "output_type": "stream",
          "name": "stdout",
          "text": [
            "[60, 56, 3]\n",
            "[24, 35, 18]\n",
            "[28, 40, 81]\n"
          ]
        }
      ]
    },
    {
      "cell_type": "code",
      "source": [
        "# TRANSPOSE OF A MATRIX\n",
        "\n",
        "X1 = [[12,7],\n",
        "    [4 ,5],\n",
        "    [3 ,8]]\n",
        "\n",
        "\n",
        "result1 = [[0,0,0],\n",
        "         [0,0,0]]\n",
        "\n",
        "for i in range(len(X1)):\n",
        "  for j in range(len(X1[0])):\n",
        "       result1[j][i] = X1[i][j]\n",
        "      \n",
        "for r in result1:\n",
        "   print(r)\n"
      ],
      "metadata": {
        "colab": {
          "base_uri": "https://localhost:8080/"
        },
        "id": "0VtB554VCWjO",
        "outputId": "ef47d8d1-588c-4929-aacc-71c50bd1b6d2"
      },
      "execution_count": 23,
      "outputs": [
        {
          "output_type": "stream",
          "name": "stdout",
          "text": [
            "[12, 4, 3]\n",
            "[7, 5, 8]\n"
          ]
        }
      ]
    },
    {
      "cell_type": "code",
      "source": [
        "# TRACE OF A MATRIX\n",
        "\n",
        "X2 = np.matrix('[12,7,3; 4,5,6; 7,8,9]')\n",
        "tra = X2.trace()\n",
        "print(tra)\n"
      ],
      "metadata": {
        "colab": {
          "base_uri": "https://localhost:8080/"
        },
        "id": "IZdHavapEqAf",
        "outputId": "074a1b59-f9f6-4892-902a-1ab894971911"
      },
      "execution_count": 38,
      "outputs": [
        {
          "output_type": "stream",
          "name": "stdout",
          "text": [
            "[[26]]\n"
          ]
        }
      ]
    },
    {
      "cell_type": "code",
      "source": [
        "# RANK OF A MATRIX\n",
        "\n",
        "my_matrix = np.array([[1, 2, 1], [3, 4, 7], [3, 6, 3]])\n",
        "print(\"Matrix\")\n",
        "for row in my_matrix:\n",
        "    print(row)\n",
        "    rank = np.linalg.matrix_rank(my_matrix)\n",
        "print(\"Rank of the given Matrix is : \",rank)"
      ],
      "metadata": {
        "colab": {
          "base_uri": "https://localhost:8080/"
        },
        "id": "dR5mUaw0Ij5Q",
        "outputId": "62a696f9-c5b3-4644-a908-941146744eef"
      },
      "execution_count": 36,
      "outputs": [
        {
          "output_type": "stream",
          "name": "stdout",
          "text": [
            "Matrix\n",
            "[1 2 1]\n",
            "[3 4 7]\n",
            "[3 6 3]\n",
            "Rank of the given Matrix is :  2\n"
          ]
        }
      ]
    },
    {
      "cell_type": "code",
      "source": [
        "#DETERMINANT OF A MATRIX\n",
        "\n",
        "X3 = np.array([[4,2], [3,4]])\n",
        "d = np.linalg.det(X3)\n",
        "\n",
        "print(d)"
      ],
      "metadata": {
        "colab": {
          "base_uri": "https://localhost:8080/"
        },
        "id": "_UhfM0LBKHEA",
        "outputId": "08403c9b-706e-49b8-d54a-08235c5d7473"
      },
      "execution_count": 45,
      "outputs": [
        {
          "output_type": "stream",
          "name": "stdout",
          "text": [
            "10.000000000000002\n"
          ]
        }
      ]
    }
  ]
}