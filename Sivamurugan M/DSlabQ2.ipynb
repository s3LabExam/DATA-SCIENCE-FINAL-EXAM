{
 "cells": [
  {
   "cell_type": "code",
   "execution_count": null,
   "id": "c0b666a5",
   "metadata": {},
   "outputs": [],
   "source": [
    "B)(ii)"
   ]
  },
  {
   "cell_type": "code",
   "execution_count": 26,
   "id": "f8b31e59",
   "metadata": {},
   "outputs": [],
   "source": [
    "import pandas as pd\n",
    "import matplotlib.pyplot as plt\n",
    "import numpy as np"
   ]
  },
  {
   "cell_type": "code",
   "execution_count": 20,
   "id": "2cb3b7c2",
   "metadata": {},
   "outputs": [],
   "source": [
    "ds=pd.DataFrame({'country':['United States','Great Britian','China','Russia','Germany'],'gold_medal':[46,27,26,19,17]})\n",
    "ds.to_csv('file2.csv',index=0)"
   ]
  },
  {
   "cell_type": "code",
   "execution_count": 21,
   "id": "c8e41005",
   "metadata": {},
   "outputs": [
    {
     "data": {
      "text/html": [
       "<div>\n",
       "<style scoped>\n",
       "    .dataframe tbody tr th:only-of-type {\n",
       "        vertical-align: middle;\n",
       "    }\n",
       "\n",
       "    .dataframe tbody tr th {\n",
       "        vertical-align: top;\n",
       "    }\n",
       "\n",
       "    .dataframe thead th {\n",
       "        text-align: right;\n",
       "    }\n",
       "</style>\n",
       "<table border=\"1\" class=\"dataframe\">\n",
       "  <thead>\n",
       "    <tr style=\"text-align: right;\">\n",
       "      <th></th>\n",
       "      <th>country</th>\n",
       "      <th>gold_medal</th>\n",
       "    </tr>\n",
       "  </thead>\n",
       "  <tbody>\n",
       "    <tr>\n",
       "      <th>0</th>\n",
       "      <td>United States</td>\n",
       "      <td>46</td>\n",
       "    </tr>\n",
       "    <tr>\n",
       "      <th>1</th>\n",
       "      <td>Great Britian</td>\n",
       "      <td>27</td>\n",
       "    </tr>\n",
       "    <tr>\n",
       "      <th>2</th>\n",
       "      <td>China</td>\n",
       "      <td>26</td>\n",
       "    </tr>\n",
       "    <tr>\n",
       "      <th>3</th>\n",
       "      <td>Russia</td>\n",
       "      <td>19</td>\n",
       "    </tr>\n",
       "    <tr>\n",
       "      <th>4</th>\n",
       "      <td>Germany</td>\n",
       "      <td>17</td>\n",
       "    </tr>\n",
       "  </tbody>\n",
       "</table>\n",
       "</div>"
      ],
      "text/plain": [
       "         country  gold_medal\n",
       "0  United States          46\n",
       "1  Great Britian          27\n",
       "2          China          26\n",
       "3         Russia          19\n",
       "4        Germany          17"
      ]
     },
     "execution_count": 21,
     "metadata": {},
     "output_type": "execute_result"
    }
   ],
   "source": [
    "da=pd.read_csv('file2.csv')\n",
    "da"
   ]
  },
  {
   "cell_type": "code",
   "execution_count": 23,
   "id": "39903d3f",
   "metadata": {},
   "outputs": [
    {
     "data": {
      "text/plain": [
       "0    United States\n",
       "1    Great Britian\n",
       "2            China\n",
       "3           Russia\n",
       "4          Germany\n",
       "Name: country, dtype: object"
      ]
     },
     "execution_count": 23,
     "metadata": {},
     "output_type": "execute_result"
    }
   ],
   "source": [
    "c=da['country']\n",
    "c"
   ]
  },
  {
   "cell_type": "code",
   "execution_count": 24,
   "id": "7753461a",
   "metadata": {},
   "outputs": [
    {
     "data": {
      "text/plain": [
       "0    46\n",
       "1    27\n",
       "2    26\n",
       "3    19\n",
       "4    17\n",
       "Name: gold_medal, dtype: int64"
      ]
     },
     "execution_count": 24,
     "metadata": {},
     "output_type": "execute_result"
    }
   ],
   "source": [
    "gm=da['gold_medal']\n",
    "gm"
   ]
  },
  {
   "cell_type": "code",
   "execution_count": 29,
   "id": "bd1b5b3d",
   "metadata": {},
   "outputs": [
    {
     "data": {
      "text/plain": [
       "([<matplotlib.patches.Wedge at 0x2c239dafd50>,\n",
       "  <matplotlib.patches.Wedge at 0x2c239f8edd0>,\n",
       "  <matplotlib.patches.Wedge at 0x2c239f8fd10>,\n",
       "  <matplotlib.patches.Wedge at 0x2c239f6b0d0>,\n",
       "  <matplotlib.patches.Wedge at 0x2c239f99a10>],\n",
       " [Text(0.5276844259140197, 0.9651679370181085, 'United States'),\n",
       "  Text(-1.0246277154553132, 0.40017251869765635, 'Great Britian'),\n",
       "  Text(-0.7168229424450668, -0.8343649496379847, 'China'),\n",
       "  Text(0.3641697549943344, -1.037969358674603, 'Russia'),\n",
       "  Text(1.015038685557071, -0.4239062005002681, 'Germany')])"
      ]
     },
     "execution_count": 29,
     "metadata": {},
     "output_type": "execute_result"
    },
    {
     "data": {
      "image/png": "[encoded data removed]",
      "text/plain": [
       "<Figure size 640x480 with 1 Axes>"
      ]
     },
     "metadata": {},
     "output_type": "display_data"
    }
   ],
   "source": [
    "plt.pie(gm,labels=c)"
   ]
  },
  {
   "cell_type": "code",
   "execution_count": null,
   "id": "1df99866",
   "metadata": {},
   "outputs": [],
   "source": [
    "B)(i)"
   ]
  },
  {
   "cell_type": "code",
   "execution_count": 32,
   "id": "1e60ca29",
   "metadata": {},
   "outputs": [],
   "source": [
    "Means_Men=[22,30,35,35,26]\n",
    "Means_Women=[25,32,30,35,29]"
   ]
  },
  {
   "cell_type": "code",
   "execution_count": 48,
   "id": "fc255ed8",
   "metadata": {},
   "outputs": [
    {
     "data": {
      "image/png": "[encoded data removed]",
      "text/plain": [
       "<Figure size 640x480 with 1 Axes>"
      ]
     },
     "metadata": {},
     "output_type": "display_data"
    }
   ],
   "source": [
    "rect1 = plt.bar(index, Means_Men, bar_width,alpha=opacity,color='b',label='Men')\n",
    "\n",
    "rect2 = plt.bar(index + bar_width, Means_Women, bar_width,alpha=opacity,color='y',label='Women')\n",
    "\n",
    "plt.xlabel('Person')\n",
    "plt.ylabel('Scores')\n",
    "plt.title('Scores by person')\n",
    "plt.xticks(index + bar_width, ('G1', 'G2', 'G3', 'G4', 'G5'))\n",
    "plt.legend()\n",
    "\n",
    "plt.show()"
   ]
  },
  {
   "cell_type": "code",
   "execution_count": null,
   "id": "ae106589",
   "metadata": {},
   "outputs": [],
   "source": []
  }
 ],
 "metadata": {
  "kernelspec": {
   "display_name": "Python 3 (ipykernel)",
   "language": "python",
   "name": "python3"
  },
  "language_info": {
   "codemirror_mode": {
    "name": "ipython",
    "version": 3
   },
   "file_extension": ".py",
   "mimetype": "text/x-python",
   "name": "python",
   "nbconvert_exporter": "python",
   "pygments_lexer": "ipython3",
   "version": "3.11.1"
  }
 },
 "nbformat": 4,
 "nbformat_minor": 5
}
