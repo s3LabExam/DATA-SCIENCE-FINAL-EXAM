{
  "nbformat": 4,
  "nbformat_minor": 0,
  "metadata": {
    "colab": {
      "provenance": []
    },
    "kernelspec": {
      "name": "python3",
      "display_name": "Python 3"
    },
    "language_info": {
      "name": "python"
    }
  },
  "cells": [
    {
      "cell_type": "code",
      "execution_count": 70,
      "metadata": {
        "id": "d0HoU_F63WH0"
      },
      "outputs": [],
      "source": [
        "import numpy as np\n",
        "import pandas as pd"
      ]
    },
    {
      "cell_type": "code",
      "source": [
        "rows=int(input(\"Give the number of rows:\"))\n",
        "cols=int(input(\"Give the number of cols:\"))"
      ],
      "metadata": {
        "colab": {
          "base_uri": "https://localhost:8080/"
        },
        "id": "WnYWy5CM4QkB",
        "outputId": "5ce97666-799f-4bf8-d759-29513ab71124"
      },
      "execution_count": 89,
      "outputs": [
        {
          "name": "stdout",
          "output_type": "stream",
          "text": [
            "Give the number of rows:3\n",
            "Give the number of cols:3\n"
          ]
        }
      ]
    },
    {
      "cell_type": "code",
      "source": [
        "matrix1 = [[int(input()) for c in range (cols)] for r in range(rows)]\n",
        "matrix1"
      ],
      "metadata": {
        "colab": {
          "base_uri": "https://localhost:8080/"
        },
        "id": "CvBYo4R7EXtM",
        "outputId": "c07e387c-9aff-40cd-8a4c-75cbba7b5b5a"
      },
      "execution_count": 91,
      "outputs": [
        {
          "name": "stdout",
          "output_type": "stream",
          "text": [
            "4\n",
            "8\n",
            "4\n",
            "1\n",
            "2\n",
            "4\n",
            "3\n",
            "7\n",
            "3\n"
          ]
        },
        {
          "output_type": "execute_result",
          "data": {
            "text/plain": [
              "[[4, 8, 4], [1, 2, 4], [3, 7, 3]]"
            ]
          },
          "metadata": {},
          "execution_count": 91
        }
      ]
    },
    {
      "cell_type": "code",
      "source": [
        "matrix2 = [[int(input()) for c in range (cols)] for r in range(rows)]\n",
        "matrix2"
      ],
      "metadata": {
        "colab": {
          "base_uri": "https://localhost:8080/"
        },
        "id": "_RSDIczh-9kF",
        "outputId": "785faf47-191d-4fdc-d22f-21e57c0c41da"
      },
      "execution_count": 93,
      "outputs": [
        {
          "name": "stdout",
          "output_type": "stream",
          "text": [
            "4\n",
            "3\n",
            "2\n",
            "1\n",
            "6\n",
            "4\n",
            "3\n",
            "2\n",
            "4\n"
          ]
        },
        {
          "output_type": "execute_result",
          "data": {
            "text/plain": [
              "[[4, 3, 2], [1, 6, 4], [3, 2, 4]]"
            ]
          },
          "metadata": {},
          "execution_count": 93
        }
      ]
    },
    {
      "cell_type": "code",
      "source": [
        "from numpy.linalg.linalg import dot\n",
        "print(\"Dot product:\\n\", dot(matrix1,matrix2))"
      ],
      "metadata": {
        "colab": {
          "base_uri": "https://localhost:8080/"
        },
        "id": "fGq21FQ2_zb1",
        "outputId": "1b5c31a8-0b7e-479a-b4ad-917e353511ee"
      },
      "execution_count": 94,
      "outputs": [
        {
          "output_type": "stream",
          "name": "stdout",
          "text": [
            "Dot product:\n",
            " [[36 68 56]\n",
            " [18 23 26]\n",
            " [28 57 46]]\n"
          ]
        }
      ]
    },
    {
      "cell_type": "code",
      "source": [
        "np.transpose(matrix1)\n"
      ],
      "metadata": {
        "colab": {
          "base_uri": "https://localhost:8080/"
        },
        "id": "kJhUyZZhHnO1",
        "outputId": "b13cefc9-a8d7-4be8-824a-f0cc3e6ee487"
      },
      "execution_count": 95,
      "outputs": [
        {
          "output_type": "execute_result",
          "data": {
            "text/plain": [
              "array([[4, 1, 3],\n",
              "       [8, 2, 7],\n",
              "       [4, 4, 3]])"
            ]
          },
          "metadata": {},
          "execution_count": 95
        }
      ]
    },
    {
      "cell_type": "code",
      "source": [
        "np.trace(matrix1)"
      ],
      "metadata": {
        "colab": {
          "base_uri": "https://localhost:8080/"
        },
        "id": "WpFJORyZHqUc",
        "outputId": "ce1323fb-ff1d-44f4-ebd6-184eb4697df1"
      },
      "execution_count": 96,
      "outputs": [
        {
          "output_type": "execute_result",
          "data": {
            "text/plain": [
              "9"
            ]
          },
          "metadata": {},
          "execution_count": 96
        }
      ]
    },
    {
      "cell_type": "code",
      "source": [
        "from numpy.linalg import matrix_rank\n",
        "matrix_rank(matrix1)"
      ],
      "metadata": {
        "colab": {
          "base_uri": "https://localhost:8080/"
        },
        "id": "1vHFSPFJHvsE",
        "outputId": "d73ee0e7-ea5b-4d32-f735-6fb17955d28f"
      },
      "execution_count": 97,
      "outputs": [
        {
          "output_type": "execute_result",
          "data": {
            "text/plain": [
              "3"
            ]
          },
          "metadata": {},
          "execution_count": 97
        }
      ]
    },
    {
      "cell_type": "code",
      "source": [
        "print(np.linalg.det(matrix1))"
      ],
      "metadata": {
        "colab": {
          "base_uri": "https://localhost:8080/"
        },
        "id": "JuBr_AUKIHd8",
        "outputId": "b4093df3-b1e9-4f08-8be5-d653b2589c25"
      },
      "execution_count": 98,
      "outputs": [
        {
          "output_type": "stream",
          "name": "stdout",
          "text": [
            "-12.0\n"
          ]
        }
      ]
    },
    {
      "cell_type": "code",
      "source": [],
      "metadata": {
        "id": "k8bLFbhtWc3L"
      },
      "execution_count": null,
      "outputs": []
    }
  ]
}