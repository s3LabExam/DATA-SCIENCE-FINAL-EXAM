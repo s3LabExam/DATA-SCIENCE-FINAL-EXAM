{
  "nbformat": 4,
  "nbformat_minor": 0,
  "metadata": {
    "colab": {
      "provenance": []
    },
    "kernelspec": {
      "name": "python3",
      "display_name": "Python 3"
    },
    "language_info": {
      "name": "python"
    }
  },
  "cells": [
    {
      "cell_type": "code",
      "execution_count": 40,
      "metadata": {
        "colab": {
          "base_uri": "https://localhost:8080/"
        },
        "id": "hiYc_eJ8A5vA",
        "outputId": "108063bf-320c-4052-a736-4bb9b2d57b8e"
      },
      "outputs": [
        {
          "name": "stdout",
          "output_type": "stream",
          "text": [
            "Enter the number of rows:2\n"
          ]
        }
      ],
      "source": [
        "import numpy as np\n",
        "A = int(input(\"Enter the number of rows:\"))\n"
      ]
    },
    {
      "cell_type": "code",
      "source": [
        "B = int(input(\"Enter the number of columns:\"))"
      ],
      "metadata": {
        "colab": {
          "base_uri": "https://localhost:8080/"
        },
        "id": "Jq4Lz47jBgDB",
        "outputId": "a9f5d6a7-bd20-4f47-e03c-df28a280bf64"
      },
      "execution_count": 41,
      "outputs": [
        {
          "name": "stdout",
          "output_type": "stream",
          "text": [
            "Enter the number of columns:2\n"
          ]
        }
      ]
    },
    {
      "cell_type": "code",
      "source": [
        "matrix1 = []\n",
        "print(\"Enter the values:\")"
      ],
      "metadata": {
        "colab": {
          "base_uri": "https://localhost:8080/"
        },
        "id": "MYLiTYkjB2-B",
        "outputId": "6c8272a2-0a00-4976-f4f2-2036e7daae00"
      },
      "execution_count": 42,
      "outputs": [
        {
          "output_type": "stream",
          "name": "stdout",
          "text": [
            "Enter the values:\n"
          ]
        }
      ]
    },
    {
      "cell_type": "code",
      "source": [],
      "metadata": {
        "colab": {
          "base_uri": "https://localhost:8080/"
        },
        "id": "z9tzYVqVDc1m",
        "outputId": "f5b24739-30b2-46f8-f9ca-366f5588e6c9"
      },
      "execution_count": 15,
      "outputs": [
        {
          "output_type": "stream",
          "name": "stdout",
          "text": [
            "Enter the values:\n"
          ]
        }
      ]
    },
    {
      "cell_type": "code",
      "source": [
        "for i in range(A):         \n",
        "    c =[]\n",
        "    for j in range(B):      \n",
        "         c.append(int(input()))\n",
        "    matrix1.append(c)"
      ],
      "metadata": {
        "colab": {
          "base_uri": "https://localhost:8080/"
        },
        "id": "DKpFlbKoDeGu",
        "outputId": "1bb52bff-2ced-4d9e-97f5-269f59df2fc6"
      },
      "execution_count": 44,
      "outputs": [
        {
          "name": "stdout",
          "output_type": "stream",
          "text": [
            "10\n",
            "20\n",
            "30\n",
            "40\n"
          ]
        }
      ]
    },
    {
      "cell_type": "code",
      "source": [
        "for i in range(A):\n",
        "    for j in range(B):\n",
        "        print(matrix1[i][j], end = \" \")\n",
        "    print()"
      ],
      "metadata": {
        "colab": {
          "base_uri": "https://localhost:8080/"
        },
        "id": "joDrLV4rB5Ye",
        "outputId": "acd7a0d1-34d1-42a7-e41b-19ca57f71f4b"
      },
      "execution_count": 45,
      "outputs": [
        {
          "output_type": "stream",
          "name": "stdout",
          "text": [
            "10 20 \n",
            "30 40 \n"
          ]
        }
      ]
    },
    {
      "cell_type": "code",
      "source": [
        "A = int(input(\"Enter the number of rows:\"))\n"
      ],
      "metadata": {
        "colab": {
          "base_uri": "https://localhost:8080/"
        },
        "id": "Gqbc5IDVFfgV",
        "outputId": "0d8eb174-3b36-421b-ad5b-e4e32f9156aa"
      },
      "execution_count": 46,
      "outputs": [
        {
          "name": "stdout",
          "output_type": "stream",
          "text": [
            "Enter the number of rows:2\n"
          ]
        }
      ]
    },
    {
      "cell_type": "code",
      "source": [
        "B = int(input(\"Enter the number of columns:\"))"
      ],
      "metadata": {
        "colab": {
          "base_uri": "https://localhost:8080/"
        },
        "id": "95T4-IEQFmIN",
        "outputId": "0cf6561c-9c11-4296-a395-cc9b4ad310cc"
      },
      "execution_count": 47,
      "outputs": [
        {
          "name": "stdout",
          "output_type": "stream",
          "text": [
            "Enter the number of columns:2\n"
          ]
        }
      ]
    },
    {
      "cell_type": "code",
      "source": [
        "\n",
        "matrix2 = []\n",
        "print(\"Enter the values:\")\n"
      ],
      "metadata": {
        "colab": {
          "base_uri": "https://localhost:8080/"
        },
        "id": "WRQ71u-bFnqF",
        "outputId": "cbad47e3-9d41-41f3-a05e-d12716415c7d"
      },
      "execution_count": 48,
      "outputs": [
        {
          "output_type": "stream",
          "name": "stdout",
          "text": [
            "Enter the values:\n"
          ]
        }
      ]
    },
    {
      "cell_type": "code",
      "source": [
        "for i in range(A):         \n",
        "    d =[]\n",
        "    for j in range(B):      \n",
        "         d.append(int(input()))\n",
        "    matrix2.append(d)"
      ],
      "metadata": {
        "colab": {
          "base_uri": "https://localhost:8080/"
        },
        "id": "4AOXlccsCLl_",
        "outputId": "54ac4471-9abc-4623-bfaa-c5854d577c57"
      },
      "execution_count": 49,
      "outputs": [
        {
          "name": "stdout",
          "output_type": "stream",
          "text": [
            "50\n",
            "60\n",
            "70\n",
            "80\n"
          ]
        }
      ]
    },
    {
      "cell_type": "code",
      "source": [
        "for i in range(A):\n",
        "    for j in range(B):\n",
        "        print(matrix2[i][j], end = \" \")\n",
        "    print()"
      ],
      "metadata": {
        "colab": {
          "base_uri": "https://localhost:8080/"
        },
        "id": "cHU1TOCZB5au",
        "outputId": "90dcc2cc-eabe-44a3-b382-2969c5063fe7"
      },
      "execution_count": 50,
      "outputs": [
        {
          "output_type": "stream",
          "name": "stdout",
          "text": [
            "50 60 \n",
            "70 80 \n"
          ]
        }
      ]
    },
    {
      "cell_type": "code",
      "source": [
        "#to find the dot product of the matrixes\n",
        "x=np.dot(matrix1, matrix2)  \n",
        "  "
      ],
      "metadata": {
        "id": "qtA6lKk-B5cd"
      },
      "execution_count": 51,
      "outputs": []
    },
    {
      "cell_type": "code",
      "source": [
        "x"
      ],
      "metadata": {
        "colab": {
          "base_uri": "https://localhost:8080/"
        },
        "id": "rbBcag2UHUBe",
        "outputId": "dc1978ec-0998-444c-f41c-cce7c4b38423"
      },
      "execution_count": 52,
      "outputs": [
        {
          "output_type": "execute_result",
          "data": {
            "text/plain": [
              "array([[1900, 2200],\n",
              "       [4300, 5000]])"
            ]
          },
          "metadata": {},
          "execution_count": 52
        }
      ]
    },
    {
      "cell_type": "code",
      "source": [
        "#to transpose the matrix\n",
        "np.transpose(matrix1)"
      ],
      "metadata": {
        "colab": {
          "base_uri": "https://localhost:8080/"
        },
        "id": "ouThYcCEHUrU",
        "outputId": "f858ec12-7aaa-4a84-ed3c-db2ffd73a10b"
      },
      "execution_count": 53,
      "outputs": [
        {
          "output_type": "execute_result",
          "data": {
            "text/plain": [
              "array([[10, 30],\n",
              "       [20, 40]])"
            ]
          },
          "metadata": {},
          "execution_count": 53
        }
      ]
    },
    {
      "cell_type": "code",
      "source": [
        "\n",
        "np.transpose(matrix2)"
      ],
      "metadata": {
        "colab": {
          "base_uri": "https://localhost:8080/"
        },
        "id": "5UgrmXVJI13l",
        "outputId": "4594e461-c7c9-4a2f-a54e-4b91dd51ca45"
      },
      "execution_count": 54,
      "outputs": [
        {
          "output_type": "execute_result",
          "data": {
            "text/plain": [
              "array([[50, 70],\n",
              "       [60, 80]])"
            ]
          },
          "metadata": {},
          "execution_count": 54
        }
      ]
    },
    {
      "cell_type": "code",
      "source": [
        "#to trace the matrix ie; sum of the daigonals\n",
        "np.trace(matrix1)\n"
      ],
      "metadata": {
        "colab": {
          "base_uri": "https://localhost:8080/"
        },
        "id": "EGvBjVHbI7zt",
        "outputId": "b198a465-25f5-4ddd-dcf5-53ef2db9ee46"
      },
      "execution_count": 55,
      "outputs": [
        {
          "output_type": "execute_result",
          "data": {
            "text/plain": [
              "50"
            ]
          },
          "metadata": {},
          "execution_count": 55
        }
      ]
    },
    {
      "cell_type": "code",
      "source": [
        "np.trace(matrix2)\n"
      ],
      "metadata": {
        "colab": {
          "base_uri": "https://localhost:8080/"
        },
        "id": "7YECXd_jJIMV",
        "outputId": "78d94322-5b2a-4b26-fe97-20bf3fa5aca4"
      },
      "execution_count": 56,
      "outputs": [
        {
          "output_type": "execute_result",
          "data": {
            "text/plain": [
              "130"
            ]
          },
          "metadata": {},
          "execution_count": 56
        }
      ]
    },
    {
      "cell_type": "code",
      "source": [
        "#rank ie;linear independent rows or columns\n",
        "np.linalg.matrix_rank(matrix1)"
      ],
      "metadata": {
        "colab": {
          "base_uri": "https://localhost:8080/"
        },
        "id": "VusRB2dIJYyF",
        "outputId": "dd6909c4-e1ca-491e-ca78-17a9ae0f8e05"
      },
      "execution_count": 58,
      "outputs": [
        {
          "output_type": "execute_result",
          "data": {
            "text/plain": [
              "2"
            ]
          },
          "metadata": {},
          "execution_count": 58
        }
      ]
    },
    {
      "cell_type": "code",
      "source": [
        "np.linalg.matrix_rank(matrix2)"
      ],
      "metadata": {
        "colab": {
          "base_uri": "https://localhost:8080/"
        },
        "id": "aPPjGJdHKFaN",
        "outputId": "0ab9d5f8-823e-417e-875c-000202893707"
      },
      "execution_count": 59,
      "outputs": [
        {
          "output_type": "execute_result",
          "data": {
            "text/plain": [
              "2"
            ]
          },
          "metadata": {},
          "execution_count": 59
        }
      ]
    },
    {
      "cell_type": "code",
      "source": [
        "#determinant of the mathrix\n",
        "np.linalg.det(matrix1)\n"
      ],
      "metadata": {
        "colab": {
          "base_uri": "https://localhost:8080/"
        },
        "id": "a5pBmArPKPiF",
        "outputId": "50609e79-16ba-478e-839a-e7dcf2dc54d0"
      },
      "execution_count": 60,
      "outputs": [
        {
          "output_type": "execute_result",
          "data": {
            "text/plain": [
              "-200.0000000000001"
            ]
          },
          "metadata": {},
          "execution_count": 60
        }
      ]
    },
    {
      "cell_type": "code",
      "source": [
        "np.linalg.det(matrix2)\n"
      ],
      "metadata": {
        "colab": {
          "base_uri": "https://localhost:8080/"
        },
        "id": "J-xoe5GOB5eN",
        "outputId": "e9ef23e7-fb97-4ea6-9c7f-9467a80963f1"
      },
      "execution_count": 61,
      "outputs": [
        {
          "output_type": "execute_result",
          "data": {
            "text/plain": [
              "-199.99999999999974"
            ]
          },
          "metadata": {},
          "execution_count": 61
        }
      ]
    },
    {
      "cell_type": "code",
      "source": [],
      "metadata": {
        "id": "qUPDoYDnKuRN"
      },
      "execution_count": null,
      "outputs": []
    },
    {
      "cell_type": "code",
      "source": [],
      "metadata": {
        "id": "e6HhqZ5ZB5fd"
      },
      "execution_count": 8,
      "outputs": []
    },
    {
      "cell_type": "code",
      "source": [],
      "metadata": {
        "id": "ZlYQpnnhB5hl"
      },
      "execution_count": null,
      "outputs": []
    }
  ]
}