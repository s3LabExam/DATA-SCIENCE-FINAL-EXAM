{
  "nbformat": 4,
  "nbformat_minor": 0,
  "metadata": {
    "colab": {
      "provenance": []
    },
    "kernelspec": {
      "name": "python3",
      "display_name": "Python 3"
    },
    "language_info": {
      "name": "python"
    }
  },
  "cells": [
    {
      "cell_type": "markdown",
      "source": [
        "Data Science\n",
        "Binoy Barnabas \n",
        "section A"
      ],
      "metadata": {
        "id": "Cs5oqy-a083u"
      }
    },
    {
      "cell_type": "code",
      "source": [
        "import numpy as np\n",
        "print(\"enter the size of the matrix1 \")\n",
        "m,n=int(input()),int(input())\n",
        "print(\"enter the size of the matrix2 \")\n",
        "p,q=int(input()),int(input())\n",
        "list1 = []\n",
        "list2 = []\n",
        "if(m == q or n == p):\n",
        "  print(\"enter matrix1 elements \")\n",
        "  for i in range(0,m*n):\n",
        "    val = int(input())\n",
        "    list1.append(val)\n",
        "  print(\"enter matrix2 elements \")\n",
        "  for i in range(0,p*q):\n",
        "    val = int(input())\n",
        "    list2.append(val)\n",
        "  matrix1 = np.array(list1)\n",
        "  matrix2 = np.array(list2)\n",
        "  matrix1 = matrix1.reshape(m,n)\n",
        "  print(matrix1)\n",
        "  #matrix2 = np.arange(4,8)\n",
        "  matrix2 = matrix2.reshape(p,q)\n",
        "  print(matrix2)\n",
        "  print(\"dot product\")\n",
        "  doted = np.dot(matrix1,matrix2)\n",
        "else:\n",
        "  print(\"multiplication constraint for both metrices should ve satisfied\")\n",
        "  \n",
        "print(doted)\n",
        "print(\"transpose of matrix1\")\n",
        "transposed = np.transpose(matrix1)\n",
        "print(transposed)\n",
        "print(\"trace of the matrix1\")\n",
        "traced = np.trace(matrix1)\n",
        "print(traced)\n",
        "\n"
      ],
      "metadata": {
        "colab": {
          "base_uri": "https://localhost:8080/"
        },
        "id": "TYgrSh_z1As3",
        "outputId": "f316db16-17db-451c-9418-da6e8ff2b1ce"
      },
      "execution_count": null,
      "outputs": [
        {
          "output_type": "stream",
          "name": "stdout",
          "text": [
            "enter the size of the matrix1 \n",
            "2\n",
            "2\n",
            "enter the size of the matrix2 \n",
            "2\n",
            "2\n",
            "enter matrix1 elements \n",
            "1\n",
            "2\n",
            "3\n",
            "4\n",
            "enter matrix2 elements \n",
            "1\n",
            "2\n",
            "3\n",
            "4\n",
            "[[1 2]\n",
            " [3 4]]\n",
            "[[1 2]\n",
            " [3 4]]\n",
            "dot product\n",
            "[[ 7 10]\n",
            " [15 22]]\n",
            "transpose of matrix1\n",
            "[[1 3]\n",
            " [2 4]]\n",
            "trace of the matrix1\n",
            "5\n"
          ]
        }
      ]
    },
    {
      "cell_type": "code",
      "source": [
        "import tensorflow as tf\n",
        "print(\"rank of the matrix1 is \")\n",
        "rank = tf.rank(matrix1)\n",
        "print(rank)\n",
        "print(\"Determinant of matrix1 is \")\n",
        "dete = np.linalg.det(matrix1)\n",
        "print(dete)"
      ],
      "metadata": {
        "colab": {
          "base_uri": "https://localhost:8080/"
        },
        "id": "Y47DsBEj9_hN",
        "outputId": "b1150bf8-b5f0-41f6-f30a-464554d8c0ab"
      },
      "execution_count": null,
      "outputs": [
        {
          "output_type": "stream",
          "name": "stdout",
          "text": [
            "rank of the matrix1 is \n",
            "tf.Tensor(2, shape=(), dtype=int32)\n",
            "Determinant of matrix1 is \n",
            "-2.0000000000000004\n"
          ]
        }
      ]
    },
    {
      "cell_type": "code",
      "source": [
        "print(matrix1)\n",
        "print(matrix2)"
      ],
      "metadata": {
        "id": "_37VjNk01zWX"
      },
      "execution_count": null,
      "outputs": []
    },
    {
      "cell_type": "markdown",
      "source": [
        "section 2"
      ],
      "metadata": {
        "id": "dSXLYiJc2AsN"
      }
    },
    {
      "cell_type": "code",
      "source": [
        "BMI = [33.6,26.6,23.4,43.1,35.3,35.9,36.7,25.7,23.3,31]\n",
        "Age = [50,30,40,67,23,67,45,46,29,56]\n",
        "sugar = [1,0,0,0,1,1,1,0,0,1]"
      ],
      "metadata": {
        "id": "3fhXBq9e2B5u"
      },
      "execution_count": null,
      "outputs": []
    },
    {
      "cell_type": "code",
      "source": [
        "import pandas as pd\n",
        "\n",
        "dataset = pd.DataFrame({'BMI':BMI,'Age':Age,'Sugar':sugar})\n",
        "print(dataset)\n",
        "dataset.to_csv('sugar.csv')"
      ],
      "metadata": {
        "colab": {
          "base_uri": "https://localhost:8080/"
        },
        "id": "7g_umOUn280e",
        "outputId": "d255a143-c374-431d-98be-69182585e242"
      },
      "execution_count": null,
      "outputs": [
        {
          "output_type": "stream",
          "name": "stdout",
          "text": [
            "    BMI  Age  Sugar\n",
            "0  33.6   50      1\n",
            "1  26.6   30      0\n",
            "2  23.4   40      0\n",
            "3  43.1   67      0\n",
            "4  35.3   23      1\n",
            "5  35.9   67      1\n",
            "6  36.7   45      1\n",
            "7  25.7   46      0\n",
            "8  23.3   29      0\n",
            "9  31.0   56      1\n"
          ]
        }
      ]
    },
    {
      "cell_type": "code",
      "source": [
        "from sklearn.neighbors import KNeighborsClassifier \n",
        "from sklearn.preprocessing import StandardScaler"
      ],
      "metadata": {
        "id": "1jykrG3U2pXu"
      },
      "execution_count": null,
      "outputs": []
    },
    {
      "cell_type": "code",
      "source": [
        "#scaler = StandardScaler()\n",
        "#scaled_data = scaler.fit_transform(dataset.drop('Sugar',axis=1))\n",
        "#x = scaled_data\n",
        "datasetnew = read_csv('sugar.csv')\n",
        "y = dataset['Sugar']\n",
        "x = dataset.drop(columns = dataset.columns[-1:])"
      ],
      "metadata": {
        "id": "FoLwxtY13WYH"
      },
      "execution_count": null,
      "outputs": []
    },
    {
      "cell_type": "code",
      "source": [
        "print(x)"
      ],
      "metadata": {
        "colab": {
          "base_uri": "https://localhost:8080/"
        },
        "id": "Z3YGnh-J4Xuv",
        "outputId": "2b25a3b0-f0bf-4b48-f3da-c2a5da73b5da"
      },
      "execution_count": null,
      "outputs": [
        {
          "output_type": "stream",
          "name": "stdout",
          "text": [
            "    BMI  Age\n",
            "0  33.6   50\n",
            "1  26.6   30\n",
            "2  23.4   40\n",
            "3  43.1   67\n",
            "4  35.3   23\n",
            "5  35.9   67\n",
            "6  36.7   45\n",
            "7  25.7   46\n",
            "8  23.3   29\n",
            "9  31.0   56\n"
          ]
        }
      ]
    },
    {
      "cell_type": "code",
      "source": [
        "print(y)"
      ],
      "metadata": {
        "colab": {
          "base_uri": "https://localhost:8080/"
        },
        "id": "DS-0AZ684z3W",
        "outputId": "27655b51-3c2d-4a5d-8535-9966b082eadd"
      },
      "execution_count": null,
      "outputs": [
        {
          "output_type": "stream",
          "name": "stdout",
          "text": [
            "0    1\n",
            "1    0\n",
            "2    0\n",
            "3    0\n",
            "4    1\n",
            "5    1\n",
            "6    1\n",
            "7    0\n",
            "8    0\n",
            "9    1\n",
            "Name: Sugar, dtype: int64\n"
          ]
        }
      ]
    },
    {
      "cell_type": "code",
      "source": [
        "knn = KNeighborsClassifier(n_neighbors = 3)"
      ],
      "metadata": {
        "id": "rY57i8S_44U-"
      },
      "execution_count": null,
      "outputs": []
    },
    {
      "cell_type": "code",
      "source": [
        "knn.fit(x,y)"
      ],
      "metadata": {
        "colab": {
          "base_uri": "https://localhost:8080/"
        },
        "id": "fj5CyPfa5CQW",
        "outputId": "842a697d-d1ad-4af7-f311-0dfa81e1373d"
      },
      "execution_count": null,
      "outputs": [
        {
          "output_type": "execute_result",
          "data": {
            "text/plain": [
              "KNeighborsClassifier(n_neighbors=3)"
            ]
          },
          "metadata": {},
          "execution_count": 54
        }
      ]
    },
    {
      "cell_type": "code",
      "source": [
        "BMI_predict = [43.6]\n",
        "age_predict = [40]\n",
        "\n",
        "data_to_predict = pd.DataFrame({'BMI':BMI_predict,'Age':age_predict})\n",
        "ypred = knn.predict(data_to_predict)\n",
        "\n",
        "print(ypred)\n"
      ],
      "metadata": {
        "colab": {
          "base_uri": "https://localhost:8080/"
        },
        "id": "i6D92n3D5K2f",
        "outputId": "30e38c0f-b4af-406d-b84e-97f1be4891e0"
      },
      "execution_count": null,
      "outputs": [
        {
          "output_type": "stream",
          "name": "stdout",
          "text": [
            "[1]\n"
          ]
        }
      ]
    },
    {
      "cell_type": "code",
      "source": [
        "predicted_value = ypred[0]\n",
        "target = {0:\"NO SUGAR\",1:\"SUGAR\"}\n",
        "print(\"A person with BMI 43.6 and Age 40 has\",target[predicted_value])"
      ],
      "metadata": {
        "colab": {
          "base_uri": "https://localhost:8080/"
        },
        "id": "g7zG7lPc6Lhu",
        "outputId": "9de2a903-6cef-4278-9f88-74761ba3f018"
      },
      "execution_count": null,
      "outputs": [
        {
          "output_type": "stream",
          "name": "stdout",
          "text": [
            "A person with BMI 43.6 and Age 40 has SUGAR\n"
          ]
        }
      ]
    },
    {
      "cell_type": "code",
      "source": [
        "import matplotlib.pyplot as plt\n",
        "plt.figure()\n",
        "plt.xlabel(\"BMI\")\n",
        "plt.ylabel(\"Age\")\n",
        "plt.title(\"Diabetic\")\n",
        "\n",
        "bmidiabetic = []\n",
        "agediabetic = []\n",
        "bminondiabetic = []\n",
        "agenondiabetic = []\n",
        "for i in range(0,10):\n",
        "  if sugar[i] == 1:\n",
        "    bmidiabetic.append(BMI[i])\n",
        "    agediabetic.append(Age[i])\n",
        "  else:\n",
        "    bminondiabetic.append(BMI[i])\n",
        "    agenondiabetic.append(Age[i])\n",
        "plt.scatter(bmidiabetic,agediabetic,color='red',label='diabetic')\n",
        "plt.scatter(bminondiabetic,agenondiabetic,color='green',label='non diabetic')\n",
        "plt.legend() \n",
        "plt.show()"
      ],
      "metadata": {
        "colab": {
          "base_uri": "https://localhost:8080/",
          "height": 295
        },
        "id": "wx52M8ZNGRjN",
        "outputId": "d584a7cd-3198-4af1-9633-009a61e3ead7"
      },
      "execution_count": null,
      "outputs": [
        {
          "output_type": "display_data",
          "data": {
            "text/plain": [
              "<Figure size 432x288 with 1 Axes>"
            ],
            "image/png": "[encoded data removed]"
          },
          "metadata": {
            "needs_background": "light"
          }
        }
      ]
    }
  ]
}