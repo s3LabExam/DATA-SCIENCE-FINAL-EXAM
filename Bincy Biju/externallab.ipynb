{
  "nbformat": 4,
  "nbformat_minor": 0,
  "metadata": {
    "colab": {
      "provenance": []
    },
    "kernelspec": {
      "name": "python3",
      "display_name": "Python 3"
    },
    "language_info": {
      "name": "python"
    }
  },
  "cells": [
    {
      "cell_type": "code",
      "execution_count": 1,
      "metadata": {
        "id": "03ejxgIl3n3p"
      },
      "outputs": [],
      "source": [
        "import numpy as np\n",
        "import pandas as pd"
      ]
    },
    {
      "cell_type": "markdown",
      "source": [
        "Write python program to create two matrices(Read values from user)"
      ],
      "metadata": {
        "id": "zoKGW5J97rsE"
      }
    },
    {
      "cell_type": "code",
      "source": [
        "rows=int(input(\" number of rows:\"))"
      ],
      "metadata": {
        "colab": {
          "base_uri": "https://localhost:8080/"
        },
        "id": "MN5WNSD34A1n",
        "outputId": "c00eeea5-bf17-4cc2-9482-400c176120b2"
      },
      "execution_count": 8,
      "outputs": [
        {
          "name": "stdout",
          "output_type": "stream",
          "text": [
            " number of rows:3\n"
          ]
        }
      ]
    },
    {
      "cell_type": "code",
      "source": [
        "columns=int(input(\"number of columns:\"))"
      ],
      "metadata": {
        "colab": {
          "base_uri": "https://localhost:8080/"
        },
        "id": "p2WOR9E7482Z",
        "outputId": "5383ea11-bf75-47ef-d7a9-f45c95141886"
      },
      "execution_count": 9,
      "outputs": [
        {
          "name": "stdout",
          "output_type": "stream",
          "text": [
            "number of columns:3\n"
          ]
        }
      ]
    },
    {
      "cell_type": "code",
      "source": [
        "matrix_7a = [[int(input()) for c in range (columns)] for r in range(rows)]"
      ],
      "metadata": {
        "colab": {
          "base_uri": "https://localhost:8080/"
        },
        "id": "0c3moA0s8bVP",
        "outputId": "5f25b80e-58ab-4595-da55-2dd5935979d9"
      },
      "execution_count": 12,
      "outputs": [
        {
          "name": "stdout",
          "output_type": "stream",
          "text": [
            "2\n",
            "4\n",
            "5\n",
            "4\n",
            "2\n",
            "1\n",
            "6\n",
            "7\n",
            "5\n"
          ]
        }
      ]
    },
    {
      "cell_type": "code",
      "source": [
        "print(matrix_a)"
      ],
      "metadata": {
        "colab": {
          "base_uri": "https://localhost:8080/"
        },
        "id": "fN3NNIIk8mn-",
        "outputId": "f22e593b-c47b-4fd4-c967-fb2a9a2ff2be"
      },
      "execution_count": 13,
      "outputs": [
        {
          "output_type": "stream",
          "name": "stdout",
          "text": [
            "[[2, 4, 5], [4, 2, 1], [6, 7, 5]]\n"
          ]
        }
      ]
    },
    {
      "cell_type": "code",
      "source": [
        "matrix_b = [[int(input()) for c in range (columns)] for r in range(rows)]"
      ],
      "metadata": {
        "colab": {
          "base_uri": "https://localhost:8080/"
        },
        "id": "cdIH9Z9S8ni2",
        "outputId": "d1fafd21-6d63-410b-996e-70d9ad898d7f"
      },
      "execution_count": 14,
      "outputs": [
        {
          "name": "stdout",
          "output_type": "stream",
          "text": [
            "4\n",
            "5\n",
            "7\n",
            "2\n",
            "4\n",
            "5\n",
            "6\n",
            "4\n",
            "3\n"
          ]
        }
      ]
    },
    {
      "cell_type": "code",
      "source": [
        "print(matrix_b)"
      ],
      "metadata": {
        "colab": {
          "base_uri": "https://localhost:8080/"
        },
        "id": "kEwLb69M8xfE",
        "outputId": "250da209-45b5-4b14-ded0-e91955f85f36"
      },
      "execution_count": 15,
      "outputs": [
        {
          "output_type": "stream",
          "name": "stdout",
          "text": [
            "[[4, 5, 7], [2, 4, 5], [6, 4, 3]]\n"
          ]
        }
      ]
    },
    {
      "cell_type": "code",
      "source": [
        "from numpy.linalg.linalg import dot\n",
        "print(\"Dot product:\\n\", dot(matrix_a,matrix_b))"
      ],
      "metadata": {
        "colab": {
          "base_uri": "https://localhost:8080/"
        },
        "id": "RIr2Y8-s83SE",
        "outputId": "f23548d9-f7a5-413d-a075-e29ac4b0e931"
      },
      "execution_count": 16,
      "outputs": [
        {
          "output_type": "stream",
          "name": "stdout",
          "text": [
            "Dot product:\n",
            " [[46 46 49]\n",
            " [26 32 41]\n",
            " [68 78 92]]\n"
          ]
        }
      ]
    },
    {
      "cell_type": "code",
      "source": [
        "\n",
        "np.transpose(matrix_a)"
      ],
      "metadata": {
        "colab": {
          "base_uri": "https://localhost:8080/"
        },
        "id": "X8MYoPRF9LIi",
        "outputId": "8b64c784-75e3-437d-da9f-f615b0cdd420"
      },
      "execution_count": 18,
      "outputs": [
        {
          "output_type": "execute_result",
          "data": {
            "text/plain": [
              "array([[2, 4, 6],\n",
              "       [4, 2, 7],\n",
              "       [5, 1, 5]])"
            ]
          },
          "metadata": {},
          "execution_count": 18
        }
      ]
    },
    {
      "cell_type": "code",
      "source": [
        "np.trace(matrix_a)"
      ],
      "metadata": {
        "colab": {
          "base_uri": "https://localhost:8080/"
        },
        "id": "kb3MurU09Sxf",
        "outputId": "60de231d-735c-4c95-e443-94395e57dd72"
      },
      "execution_count": 19,
      "outputs": [
        {
          "output_type": "execute_result",
          "data": {
            "text/plain": [
              "9"
            ]
          },
          "metadata": {},
          "execution_count": 19
        }
      ]
    },
    {
      "cell_type": "code",
      "source": [
        "matrix_rank(matrix_a)"
      ],
      "metadata": {
        "colab": {
          "base_uri": "https://localhost:8080/",
          "height": 165
        },
        "id": "rq6S0KTJ-VBt",
        "outputId": "a8336331-50f0-4920-c15c-9fbcdcfe561d"
      },
      "execution_count": 22,
      "outputs": [
        {
          "output_type": "error",
          "ename": "NameError",
          "evalue": "ignored",
          "traceback": [
            "\u001b[0;31m---------------------------------------------------------------------------\u001b[0m",
            "\u001b[0;31mNameError\u001b[0m                                 Traceback (most recent call last)",
            "\u001b[0;32m<ipython-input-22-6b3cbc6055cf>\u001b[0m in \u001b[0;36m<module>\u001b[0;34m\u001b[0m\n\u001b[0;32m----> 1\u001b[0;31m \u001b[0mmatrix_rank\u001b[0m\u001b[0;34m(\u001b[0m\u001b[0mmatrix_a\u001b[0m\u001b[0;34m)\u001b[0m\u001b[0;34m\u001b[0m\u001b[0;34m\u001b[0m\u001b[0m\n\u001b[0m",
            "\u001b[0;31mNameError\u001b[0m: name 'matrix_rank' is not defined"
          ]
        }
      ]
    },
    {
      "cell_type": "code",
      "source": [
        "print(np.linalg.det(matrix_a))"
      ],
      "metadata": {
        "colab": {
          "base_uri": "https://localhost:8080/"
        },
        "id": "nuJIsTRh-ugZ",
        "outputId": "cf093fc5-304d-49bf-ef91-c4282e56e7c7"
      },
      "execution_count": 24,
      "outputs": [
        {
          "output_type": "stream",
          "name": "stdout",
          "text": [
            "29.999999999999975\n"
          ]
        }
      ]
    },
    {
      "cell_type": "markdown",
      "source": [
        "(B)Create dataset"
      ],
      "metadata": {
        "id": "qLkGktfFC8oP"
      }
    },
    {
      "cell_type": "code",
      "source": [
        "BMI = [33.6,26.6,23.4,43.1,35.3,35.9,36.7,25.7,23.3,31]\n",
        "Age = [50,30,40,67,23,67,45,46,29,56]\n",
        "sugar = [1,0,0,0,1,1,1,0,0,1]\n",
        "     \n",
        "\n",
        "import pandas as pd\n",
        "\n",
        "dataset = pd.DataFrame({'BMI':BMI,'Age':Age,'Sugar':sugar})\n",
        "print(dataset)\n",
        "dataset.to_csv('sugar.csv')"
      ],
      "metadata": {
        "id": "eZl3V6kaCD5U",
        "outputId": "24486ab2-46bf-4bab-d23c-4a1861ee2915",
        "colab": {
          "base_uri": "https://localhost:8080/"
        }
      },
      "execution_count": 65,
      "outputs": [
        {
          "output_type": "stream",
          "name": "stdout",
          "text": [
            "    BMI  Age  Sugar\n",
            "0  33.6   50      1\n",
            "1  26.6   30      0\n",
            "2  23.4   40      0\n",
            "3  43.1   67      0\n",
            "4  35.3   23      1\n",
            "5  35.9   67      1\n",
            "6  36.7   45      1\n",
            "7  25.7   46      0\n",
            "8  23.3   29      0\n",
            "9  31.0   56      1\n"
          ]
        }
      ]
    },
    {
      "cell_type": "code",
      "source": [
        "import matplotlib.pyplot as plt\n",
        "\n",
        "groups = df.groupby('Sugar')\n",
        "for name, group in groups:\n",
        "    plt.plot(group.BMI, group.AGE, marker='o', linestyle='', markersize=6,label=name)\n",
        "    plt.xlabel(\"BMI\")\n",
        "    plt.ylabel(\"AGE\")\n",
        "\n",
        "plt.legend()\n"
      ],
      "metadata": {
        "colab": {
          "base_uri": "https://localhost:8080/",
          "height": 296
        },
        "id": "nSCa9VOvDJuf",
        "outputId": "fda79c1f-6dfb-4bfb-f399-4b3401042653"
      },
      "execution_count": 66,
      "outputs": [
        {
          "output_type": "execute_result",
          "data": {
            "text/plain": [
              "<matplotlib.legend.Legend at 0x7f3fd2b4f670>"
            ]
          },
          "metadata": {},
          "execution_count": 66
        },
        {
          "output_type": "display_data",
          "data": {
            "text/plain": [
              "<Figure size 432x288 with 1 Axes>"
            ],
            "image/png": "[encoded data removed]"
          },
          "metadata": {
            "needs_background": "light"
          }
        }
      ]
    },
    {
      "cell_type": "code",
      "source": [
        "from sklearn.neighbors import KNeighborsClassifier \n",
        "from sklearn.preprocessing import StandardScaler\n",
        "datasetnew =pd.read_csv('sugar.csv')\n",
        "y = dataset['Sugar']\n",
        "x = dataset.drop(columns = dataset.columns[-1:])"
      ],
      "metadata": {
        "id": "Z8BHVVLKDMbq"
      },
      "execution_count": 76,
      "outputs": []
    },
    {
      "cell_type": "code",
      "source": [
        "print(x)\n"
      ],
      "metadata": {
        "id": "mQoh45BMEc7S",
        "outputId": "c1956df9-e699-4e29-a080-4786d2b63dd0",
        "colab": {
          "base_uri": "https://localhost:8080/"
        }
      },
      "execution_count": 71,
      "outputs": [
        {
          "output_type": "stream",
          "name": "stdout",
          "text": [
            "    BMI  Age\n",
            "0  33.6   50\n",
            "1  26.6   30\n",
            "2  23.4   40\n",
            "3  43.1   67\n",
            "4  35.3   23\n",
            "5  35.9   67\n",
            "6  36.7   45\n",
            "7  25.7   46\n",
            "8  23.3   29\n",
            "9  31.0   56\n"
          ]
        }
      ]
    },
    {
      "cell_type": "code",
      "source": [
        "print(y)"
      ],
      "metadata": {
        "id": "q9DFI0_WhAAK",
        "outputId": "04f98a86-ff34-41b8-fed9-ae43e75b3e47",
        "colab": {
          "base_uri": "https://localhost:8080/"
        }
      },
      "execution_count": 72,
      "outputs": [
        {
          "output_type": "stream",
          "name": "stdout",
          "text": [
            "0    1\n",
            "1    0\n",
            "2    0\n",
            "3    0\n",
            "4    1\n",
            "5    1\n",
            "6    1\n",
            "7    0\n",
            "8    0\n",
            "9    1\n",
            "Name: Sugar, dtype: int64\n"
          ]
        }
      ]
    },
    {
      "cell_type": "code",
      "source": [
        "knn = KNeighborsClassifier(n_neighbors = 3)\n",
        "     \n",
        "\n",
        "knn.fit(x,y)"
      ],
      "metadata": {
        "id": "2sy6aCuuhB-a",
        "outputId": "b8a77709-5a81-488f-de8f-54b63340fc59",
        "colab": {
          "base_uri": "https://localhost:8080/"
        }
      },
      "execution_count": 74,
      "outputs": [
        {
          "output_type": "execute_result",
          "data": {
            "text/plain": [
              "KNeighborsClassifier(n_neighbors=3)"
            ]
          },
          "metadata": {},
          "execution_count": 74
        }
      ]
    },
    {
      "cell_type": "code",
      "source": [
        "BMI_predict = [43.6]\n",
        "age_predict = [40]\n",
        "\n",
        "data_to_predict = pd.DataFrame({'BMI':BMI_predict,'Age':age_predict})\n",
        "ypred = knn.predict(data_to_predict)\n",
        "\n",
        "print(ypred)\n"
      ],
      "metadata": {
        "id": "gHilw5KVhIUC",
        "outputId": "33acd5dd-0e19-49fa-d68e-a3973c7bc2aa",
        "colab": {
          "base_uri": "https://localhost:8080/"
        }
      },
      "execution_count": 75,
      "outputs": [
        {
          "output_type": "stream",
          "name": "stdout",
          "text": [
            "[1]\n"
          ]
        }
      ]
    }
  ]
}