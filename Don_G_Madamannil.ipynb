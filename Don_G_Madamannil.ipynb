{
  "nbformat": 4,
  "nbformat_minor": 0,
  "metadata": {
    "colab": {
      "provenance": []
    },
    "kernelspec": {
      "name": "python3",
      "display_name": "Python 3"
    },
    "language_info": {
      "name": "python"
    }
  },
  "cells": [
    {
      "cell_type": "code",
      "execution_count": null,
      "metadata": {
        "colab": {
          "base_uri": "https://localhost:8080/"
        },
        "id": "lCHKOLMu2Yix",
        "outputId": "8b479895-3196-48db-c5a7-3770e4f411a4"
      },
      "outputs": [
        {
          "output_type": "stream",
          "name": "stdout",
          "text": [
            "Enter number of Rows:2\n",
            "Enter number of columns:2\n",
            "Enter 4  Elements of 1st matrix:\n",
            "1\n",
            "2\n",
            "3\n",
            "4\n",
            "Matrix is:\n",
            "1 2 \n",
            "3 4 \n"
          ]
        }
      ],
      "source": [
        "n=int(input(\"Enter number of Rows:\"))\n",
        "m=int(input(\"Enter number of columns:\"))\n",
        "#entering 1st metrix\n",
        "print(\"Enter\", n*m,\" Elements of 1st matrix:\")\n",
        "met1=[]\n",
        "for _ in range(n): \n",
        "    r = []  \n",
        "    for __ in range(m):  \n",
        "        r.append(int(input()))  \n",
        "    met1.append(r) \n",
        "print(\"Matrix is:\") \n",
        "for _ in range(n):  \n",
        "    for __ in range(m):  \n",
        "        print(met1[_][__], end=\" \")  \n",
        "    print()  \n",
        "  \n"
      ]
    },
    {
      "cell_type": "code",
      "source": [
        "#second matrix\n",
        "print(\"Enter\", n*m,\" Elements of 1st matrix:\")\n",
        "met2=[]\n",
        "for _ in range(n): \n",
        "    r = []  \n",
        "    for __ in range(m):  \n",
        "        r.append(int(input()))  \n",
        "    met2.append(r)  \n",
        "for _ in range(n):  \n",
        "    for __ in range(m):  \n",
        "        print(met2[_][__], end=\" \")  \n",
        "    print()  \n"
      ],
      "metadata": {
        "colab": {
          "base_uri": "https://localhost:8080/"
        },
        "id": "Gz1qz0DE2fgw",
        "outputId": "b9daee65-04da-4b48-860a-fee9cabcff4a"
      },
      "execution_count": null,
      "outputs": [
        {
          "output_type": "stream",
          "name": "stdout",
          "text": [
            "Enter 4  Elements of 1st matrix:\n",
            "2\n",
            "2\n",
            "2\n",
            "2\n",
            "2 2 \n",
            "2 2 \n"
          ]
        }
      ]
    },
    {
      "cell_type": "code",
      "source": [
        "import numpy as np\n",
        "np.dot(met1,met2)"
      ],
      "metadata": {
        "colab": {
          "base_uri": "https://localhost:8080/"
        },
        "id": "z9O4J6-S6iMI",
        "outputId": "54df4188-5b1f-4bf4-aecf-68a9fd566ccc"
      },
      "execution_count": null,
      "outputs": [
        {
          "output_type": "execute_result",
          "data": {
            "text/plain": [
              "array([[ 6,  6],\n",
              "       [14, 14]])"
            ]
          },
          "metadata": {},
          "execution_count": 120
        }
      ]
    },
    {
      "cell_type": "code",
      "source": [
        "np.transpose(met1)"
      ],
      "metadata": {
        "colab": {
          "base_uri": "https://localhost:8080/"
        },
        "id": "9znE_4547Fyw",
        "outputId": "23f4aa83-5584-4d80-c76f-027f4ada4181"
      },
      "execution_count": null,
      "outputs": [
        {
          "output_type": "execute_result",
          "data": {
            "text/plain": [
              "array([[1, 3],\n",
              "       [2, 4]])"
            ]
          },
          "metadata": {},
          "execution_count": 121
        }
      ]
    },
    {
      "cell_type": "code",
      "source": [
        "np.trace(met1)"
      ],
      "metadata": {
        "colab": {
          "base_uri": "https://localhost:8080/"
        },
        "id": "GLcyPWyj-PyH",
        "outputId": "e1d895f7-2ecb-4edb-86d5-b2ac41d45cc4"
      },
      "execution_count": null,
      "outputs": [
        {
          "output_type": "execute_result",
          "data": {
            "text/plain": [
              "5"
            ]
          },
          "metadata": {},
          "execution_count": 123
        }
      ]
    },
    {
      "cell_type": "code",
      "source": [
        "np.linalg.matrix_rank(met1)\n"
      ],
      "metadata": {
        "colab": {
          "base_uri": "https://localhost:8080/"
        },
        "id": "nvst6eSo_Onw",
        "outputId": "eb130bb1-69db-4256-dc5c-898072522ace"
      },
      "execution_count": null,
      "outputs": [
        {
          "output_type": "execute_result",
          "data": {
            "text/plain": [
              "1"
            ]
          },
          "metadata": {},
          "execution_count": 92
        }
      ]
    },
    {
      "cell_type": "code",
      "source": [
        "np.linalg.det(met1)"
      ],
      "metadata": {
        "colab": {
          "base_uri": "https://localhost:8080/"
        },
        "id": "TYTurBAFEetB",
        "outputId": "69447629-0981-4cbb-a30c-f5fe00fbc4e1"
      },
      "execution_count": null,
      "outputs": [
        {
          "output_type": "execute_result",
          "data": {
            "text/plain": [
              "-2.0000000000000004"
            ]
          },
          "metadata": {},
          "execution_count": 135
        }
      ]
    },
    {
      "cell_type": "code",
      "source": [],
      "metadata": {
        "id": "B6XsIsm5UXvU"
      },
      "execution_count": null,
      "outputs": []
    },
    {
      "cell_type": "code",
      "source": [
        "import pandas as pd\n",
        "x=pd.read_csv(\"dst.csv\")"
      ],
      "metadata": {
        "id": "mRVkfsp8_5T4"
      },
      "execution_count": null,
      "outputs": []
    },
    {
      "cell_type": "code",
      "source": [
        "print(x)"
      ],
      "metadata": {
        "colab": {
          "base_uri": "https://localhost:8080/"
        },
        "id": "UoV6HWmeM2Va",
        "outputId": "6ba399cf-f161-4d7d-b286-47fe3600343b"
      },
      "execution_count": null,
      "outputs": [
        {
          "output_type": "stream",
          "name": "stdout",
          "text": [
            "    BMI  AGE  SUGAR\n",
            "0  33.6   50      1\n",
            "1  26.6   30      0\n",
            "2  23.4   40      0\n",
            "3  43.1   67      0\n",
            "4  35.3   23      1\n",
            "5  35.9   67      1\n",
            "6  36.7   45      1\n",
            "7  25.7   46      0\n",
            "8  23.3   29      0\n",
            "9  31.0   56      1\n"
          ]
        }
      ]
    },
    {
      "cell_type": "code",
      "source": [
        "import matplotlib.pyplot as plt\n",
        "for i in range(0,x['AGE'].count()):\n",
        "   if(x['SUGAR'][i]==1):\n",
        "     clr=\"red\"\n",
        "   else:\n",
        "     clr=\"blue\"\n",
        "   plt.scatter(x['BMI'][i],x['AGE'][i],color=clr)\n",
        "plt.xlabel('BMI')\n",
        "plt.ylabel('AGE')"
      ],
      "metadata": {
        "colab": {
          "base_uri": "https://localhost:8080/",
          "height": 296
        },
        "id": "5q89mSqTAEG_",
        "outputId": "5b4aec3f-af9f-43f3-dead-73d8baa3a1cb"
      },
      "execution_count": null,
      "outputs": [
        {
          "output_type": "execute_result",
          "data": {
            "text/plain": [
              "Text(0, 0.5, 'AGE')"
            ]
          },
          "metadata": {},
          "execution_count": 141
        },
        {
          "output_type": "display_data",
          "data": {
            "text/plain": [
              "<Figure size 432x288 with 1 Axes>"
            ],
            "image/png": "[encoded data removed]"
          },
          "metadata": {
            "needs_background": "light"
          }
        }
      ]
    },
    {
      "cell_type": "code",
      "source": [
        "#create KNN\n",
        "from sklearn.neighbors import KNeighborsClassifier\n",
        "kn=KNeighborsClassifier(n_neighbors=3)\n",
        "kn.fit(x.drop(\"SUGAR\",axis=1),x[\"SUGAR\"])"
      ],
      "metadata": {
        "colab": {
          "base_uri": "https://localhost:8080/"
        },
        "id": "CfPxbA_qCRRZ",
        "outputId": "964fe068-67f6-4c67-be23-1a8c81f89aad"
      },
      "execution_count": null,
      "outputs": [
        {
          "output_type": "execute_result",
          "data": {
            "text/plain": [
              "KNeighborsClassifier(n_neighbors=3)"
            ]
          },
          "metadata": {},
          "execution_count": 143
        }
      ]
    },
    {
      "cell_type": "code",
      "source": [
        "#predict for given input\n",
        "x_test=pd.DataFrame(columns=['BMI','AGE'])\n",
        "x_test['BMI']=[43.6]\n",
        "x_test[\"AGE\"]=[40]\n",
        "pred=kn.predict(x_test)\n",
        "pred"
      ],
      "metadata": {
        "colab": {
          "base_uri": "https://localhost:8080/"
        },
        "id": "dt8zR3PWDJ3_",
        "outputId": "e55f21ab-5ab9-42f7-a3a9-e2f4f63d9adb"
      },
      "execution_count": null,
      "outputs": [
        {
          "output_type": "execute_result",
          "data": {
            "text/plain": [
              "array([1])"
            ]
          },
          "metadata": {},
          "execution_count": 144
        }
      ]
    },
    {
      "cell_type": "code",
      "source": [],
      "metadata": {
        "id": "XgPVTlkfU7hD"
      },
      "execution_count": null,
      "outputs": []
    }
  ]
}